{
 "cells": [
  {
   "cell_type": "markdown",
   "metadata": {},
   "source": [
    "## Cultural Alignment LLMs \n",
    "\n",
    "- Data Acquisition, Analysis and Preprocessing"
   ]
  },
  {
   "cell_type": "markdown",
   "metadata": {},
   "source": [
    "#### 0. Setup"
   ]
  },
  {
   "cell_type": "code",
   "execution_count": 1,
   "metadata": {},
   "outputs": [
    {
     "name": "stderr",
     "output_type": "stream",
     "text": [
      "/Users/huyue/anaconda3/envs/daps/lib/python3.11/site-packages/tqdm/auto.py:21: TqdmWarning: IProgress not found. Please update jupyter and ipywidgets. See https://ipywidgets.readthedocs.io/en/stable/user_install.html\n",
      "  from .autonotebook import tqdm as notebook_tqdm\n"
     ]
    }
   ],
   "source": [
    "# Import libraries\n",
    "from datasets import load_dataset\n",
    "import pandas as pd\n",
    "import numpy as np\n",
    "from tqdm import tqdm\n",
    "%matplotlib inline\n",
    "import matplotlib.pyplot as plt\n",
    "from wordcloud import WordCloud\n",
    "from PIL import Image"
   ]
  },
  {
   "cell_type": "markdown",
   "metadata": {},
   "source": [
    "#### 1. Data Acquisition"
   ]
  },
  {
   "cell_type": "code",
   "execution_count": 11,
   "metadata": {},
   "outputs": [],
   "source": [
    "# Function used for data acquisition, data_type: list of names indicating data types.\n",
    "def data_acquire(data_type):\n",
    "    data_list = []\n",
    "    for i in tqdm(data_type):\n",
    "        ds = load_dataset(\"m-a-p/COIG-CQIA\", i)['train']\n",
    "        data_list.append(ds)\n",
    "\n",
    "    return data_list"
   ]
  },
  {
   "cell_type": "code",
   "execution_count": 13,
   "metadata": {},
   "outputs": [
    {
     "name": "stderr",
     "output_type": "stream",
     "text": [
      "Downloading data: 100%|██████████| 891k/891k [00:00<00:00, 2.00MB/s]\n",
      "Downloading data: 100%|██████████| 90.9k/90.9k [00:00<00:00, 775kB/s]\n",
      "Generating train split: 100%|██████████| 1007/1007 [00:00<00:00, 69573.44 examples/s]\n",
      "Downloading data: 100%|██████████| 3.12M/3.12M [00:00<00:00, 4.69MB/s]\n",
      "Downloading data: 100%|██████████| 503k/503k [00:00<00:00, 1.31MB/s]\n",
      "Downloading data: 100%|██████████| 2.81M/2.81M [00:00<00:00, 4.40MB/s]\n",
      "Generating train split: 100%|██████████| 4856/4856 [00:00<00:00, 143554.70 examples/s]\n",
      "100%|██████████| 3/3 [00:09<00:00,  3.24s/it]\n"
     ]
    }
   ],
   "source": [
    "# Download data covering topics of Chinese traditions, human values, exams\n",
    "data_type = ['chinese_traditional','human_value','exam']\n",
    "data_list = data_acquire(data_type)"
   ]
  },
  {
   "cell_type": "markdown",
   "metadata": {},
   "source": [
    "#### 2. Data Analysis and Preprocessing"
   ]
  },
  {
   "cell_type": "code",
   "execution_count": 29,
   "metadata": {},
   "outputs": [
    {
     "data": {
      "image/png": "[encoded data removed]",
      "text/plain": [
       "<Figure size 640x480 with 1 Axes>"
      ]
     },
     "metadata": {},
     "output_type": "display_data"
    }
   ],
   "source": [
    "# Plot the distribution of data (Birdeye view)\n",
    "def plot_data_distribution(data_list):\n",
    "    data_num = []\n",
    "    for i in data_list:\n",
    "        data_num.append(i.num_rows)\n",
    "\n",
    "    plt.figure()\n",
    "    plt.bar(data_type,data_num,color=['skyblue','orange','darkgreen'])\n",
    "    plt.title('Distribution of Data')\n",
    "    plt.xlabel('Category')\n",
    "    plt.ylabel('Number of Rows')\n",
    "    plt.show()\n",
    "\n",
    "plot_data_distribution(data_list)\n"
   ]
  },
  {
   "cell_type": "markdown",
   "metadata": {},
   "source": [
    "##### 2.1 Data Cleaning"
   ]
  },
  {
   "cell_type": "code",
   "execution_count": 30,
   "metadata": {},
   "outputs": [],
   "source": [
    "# Analyse data separately according to types\n",
    "tradition,value,exam = data_list[0],data_list[1],data_list[2]"
   ]
  },
  {
   "cell_type": "markdown",
   "metadata": {},
   "source": [
    "##### (1) Chinese Tradition"
   ]
  },
  {
   "cell_type": "code",
   "execution_count": 38,
   "metadata": {},
   "outputs": [
    {
     "data": {
      "text/html": [
       "<div>\n",
       "<style scoped>\n",
       "    .dataframe tbody tr th:only-of-type {\n",
       "        vertical-align: middle;\n",
       "    }\n",
       "\n",
       "    .dataframe tbody tr th {\n",
       "        vertical-align: top;\n",
       "    }\n",
       "\n",
       "    .dataframe thead th {\n",
       "        text-align: right;\n",
       "    }\n",
       "</style>\n",
       "<table border=\"1\" class=\"dataframe\">\n",
       "  <thead>\n",
       "    <tr style=\"text-align: right;\">\n",
       "      <th></th>\n",
       "      <th>instruction</th>\n",
       "      <th>input</th>\n",
       "      <th>output</th>\n",
       "      <th>task_type</th>\n",
       "      <th>domain</th>\n",
       "      <th>metadata</th>\n",
       "      <th>answer_from</th>\n",
       "      <th>human_verified</th>\n",
       "      <th>copyright</th>\n",
       "    </tr>\n",
       "  </thead>\n",
       "  <tbody>\n",
       "    <tr>\n",
       "      <th>0</th>\n",
       "      <td>暗度陈仓\\n成语释义：</td>\n",
       "      <td></td>\n",
       "      <td>指正面迷惑敌人，而从侧翼进行突然袭击。亦比喻暗中进行活动。陈仓，古县名，在今陕西省宝鸡市东，...</td>\n",
       "      <td>{'major': ['文本生成'], 'minor': ['成语释义']}</td>\n",
       "      <td>[中国传统文化, 成语]</td>\n",
       "      <td>暂无元数据信息</td>\n",
       "      <td>human</td>\n",
       "      <td>True</td>\n",
       "      <td>暂无版权及作者信息</td>\n",
       "    </tr>\n",
       "    <tr>\n",
       "      <th>1</th>\n",
       "      <td>家有敝帚，享之千金\\n这句话的意思是什么？</td>\n",
       "      <td></td>\n",
       "      <td>敝帚破扫帚；享供奉。自家的破扫帚被认为价值千金。比喻自己的东西即使不好也倍觉珍贵。有时用于自...</td>\n",
       "      <td>{'major': ['文本生成'], 'minor': ['成语释义']}</td>\n",
       "      <td>[中国传统文化, 成语]</td>\n",
       "      <td>暂无元数据信息</td>\n",
       "      <td>human</td>\n",
       "      <td>True</td>\n",
       "      <td>暂无版权及作者信息</td>\n",
       "    </tr>\n",
       "    <tr>\n",
       "      <th>2</th>\n",
       "      <td>这个词语是什么意思？别风淮雨\\n答案：</td>\n",
       "      <td></td>\n",
       "      <td>这是列风淫雨的误写，因别和列、淮与淫字殂相似。后称书籍中因错别字而以讹传讹为别风淮雨。\\n成...</td>\n",
       "      <td>{'major': ['文本生成'], 'minor': ['成语释义']}</td>\n",
       "      <td>[中国传统文化, 成语]</td>\n",
       "      <td>暂无元数据信息</td>\n",
       "      <td>human</td>\n",
       "      <td>True</td>\n",
       "      <td>暂无版权及作者信息</td>\n",
       "    </tr>\n",
       "  </tbody>\n",
       "</table>\n",
       "</div>"
      ],
      "text/plain": [
       "             instruction input  \\\n",
       "0            暗度陈仓\\n成语释义：         \n",
       "1  家有敝帚，享之千金\\n这句话的意思是什么？         \n",
       "2    这个词语是什么意思？别风淮雨\\n答案：         \n",
       "\n",
       "                                              output  \\\n",
       "0  指正面迷惑敌人，而从侧翼进行突然袭击。亦比喻暗中进行活动。陈仓，古县名，在今陕西省宝鸡市东，...   \n",
       "1  敝帚破扫帚；享供奉。自家的破扫帚被认为价值千金。比喻自己的东西即使不好也倍觉珍贵。有时用于自...   \n",
       "2  这是列风淫雨的误写，因别和列、淮与淫字殂相似。后称书籍中因错别字而以讹传讹为别风淮雨。\\n成...   \n",
       "\n",
       "                                task_type        domain metadata answer_from  \\\n",
       "0  {'major': ['文本生成'], 'minor': ['成语释义']}  [中国传统文化, 成语]  暂无元数据信息       human   \n",
       "1  {'major': ['文本生成'], 'minor': ['成语释义']}  [中国传统文化, 成语]  暂无元数据信息       human   \n",
       "2  {'major': ['文本生成'], 'minor': ['成语释义']}  [中国传统文化, 成语]  暂无元数据信息       human   \n",
       "\n",
       "   human_verified  copyright  \n",
       "0            True  暂无版权及作者信息  \n",
       "1            True  暂无版权及作者信息  \n",
       "2            True  暂无版权及作者信息  "
      ]
     },
     "execution_count": 38,
     "metadata": {},
     "output_type": "execute_result"
    }
   ],
   "source": [
    "pd_tradition = pd.DataFrame(tradition)\n",
    "pd_tradition.head(3)"
   ]
  },
  {
   "cell_type": "code",
   "execution_count": 45,
   "metadata": {},
   "outputs": [
    {
     "data": {
      "text/html": [
       "<div>\n",
       "<style scoped>\n",
       "    .dataframe tbody tr th:only-of-type {\n",
       "        vertical-align: middle;\n",
       "    }\n",
       "\n",
       "    .dataframe tbody tr th {\n",
       "        vertical-align: top;\n",
       "    }\n",
       "\n",
       "    .dataframe thead th {\n",
       "        text-align: right;\n",
       "    }\n",
       "</style>\n",
       "<table border=\"1\" class=\"dataframe\">\n",
       "  <thead>\n",
       "    <tr style=\"text-align: right;\">\n",
       "      <th></th>\n",
       "      <th>instruction</th>\n",
       "      <th>input</th>\n",
       "      <th>output</th>\n",
       "      <th>task_type</th>\n",
       "    </tr>\n",
       "  </thead>\n",
       "  <tbody>\n",
       "    <tr>\n",
       "      <th>0</th>\n",
       "      <td>暗度陈仓\\n成语释义：</td>\n",
       "      <td></td>\n",
       "      <td>指正面迷惑敌人，而从侧翼进行突然袭击。亦比喻暗中进行活动。陈仓，古县名，在今陕西省宝鸡市东，...</td>\n",
       "      <td>{'major': ['文本生成'], 'minor': ['成语释义']}</td>\n",
       "    </tr>\n",
       "    <tr>\n",
       "      <th>1</th>\n",
       "      <td>家有敝帚，享之千金\\n这句话的意思是什么？</td>\n",
       "      <td></td>\n",
       "      <td>敝帚破扫帚；享供奉。自家的破扫帚被认为价值千金。比喻自己的东西即使不好也倍觉珍贵。有时用于自...</td>\n",
       "      <td>{'major': ['文本生成'], 'minor': ['成语释义']}</td>\n",
       "    </tr>\n",
       "    <tr>\n",
       "      <th>2</th>\n",
       "      <td>这个词语是什么意思？别风淮雨\\n答案：</td>\n",
       "      <td></td>\n",
       "      <td>这是列风淫雨的误写，因别和列、淮与淫字殂相似。后称书籍中因错别字而以讹传讹为别风淮雨。\\n成...</td>\n",
       "      <td>{'major': ['文本生成'], 'minor': ['成语释义']}</td>\n",
       "    </tr>\n",
       "  </tbody>\n",
       "</table>\n",
       "</div>"
      ],
      "text/plain": [
       "             instruction input  \\\n",
       "0            暗度陈仓\\n成语释义：         \n",
       "1  家有敝帚，享之千金\\n这句话的意思是什么？         \n",
       "2    这个词语是什么意思？别风淮雨\\n答案：         \n",
       "\n",
       "                                              output  \\\n",
       "0  指正面迷惑敌人，而从侧翼进行突然袭击。亦比喻暗中进行活动。陈仓，古县名，在今陕西省宝鸡市东，...   \n",
       "1  敝帚破扫帚；享供奉。自家的破扫帚被认为价值千金。比喻自己的东西即使不好也倍觉珍贵。有时用于自...   \n",
       "2  这是列风淫雨的误写，因别和列、淮与淫字殂相似。后称书籍中因错别字而以讹传讹为别风淮雨。\\n成...   \n",
       "\n",
       "                                task_type  \n",
       "0  {'major': ['文本生成'], 'minor': ['成语释义']}  \n",
       "1  {'major': ['文本生成'], 'minor': ['成语释义']}  \n",
       "2  {'major': ['文本生成'], 'minor': ['成语释义']}  "
      ]
     },
     "execution_count": 45,
     "metadata": {},
     "output_type": "execute_result"
    }
   ],
   "source": [
    "# Remove irrelevant columns\n",
    "pd_tradition = pd_tradition.drop(columns=['domain','metadata','answer_from','human_verified','copyright'])\n",
    "pd_tradition.head(3)"
   ]
  },
  {
   "cell_type": "code",
   "execution_count": 56,
   "metadata": {},
   "outputs": [
    {
     "data": {
      "text/plain": [
       "task_type\n",
       "{'major': ['文本生成'], 'minor': ['文言文翻译']}    721\n",
       "{'major': ['试题'], 'minor': ['选择题']}        232\n",
       "{'major': ['文本生成'], 'minor': ['成语释义']}     111\n",
       "{'major': ['文本生成'], 'minor': ['古诗续写']}      47\n",
       "Name: count, dtype: int64"
      ]
     },
     "execution_count": 56,
     "metadata": {},
     "output_type": "execute_result"
    }
   ],
   "source": [
    "pd_tradition['task_type'].value_counts()"
   ]
  },
  {
   "cell_type": "code",
   "execution_count": 59,
   "metadata": {},
   "outputs": [],
   "source": [
    "# In this project, we don't consider translation tasks\n",
    "pd_tradition = pd_tradition.drop(pd_tradition[pd_tradition['task_type']=={'major': ['文本生成'], 'minor': ['文言文翻译']}].index)"
   ]
  },
  {
   "cell_type": "code",
   "execution_count": 60,
   "metadata": {},
   "outputs": [
    {
     "data": {
      "text/plain": [
       "task_type\n",
       "{'major': ['试题'], 'minor': ['选择题']}       232\n",
       "{'major': ['文本生成'], 'minor': ['成语释义']}    111\n",
       "{'major': ['文本生成'], 'minor': ['古诗续写']}     47\n",
       "Name: count, dtype: int64"
      ]
     },
     "execution_count": 60,
     "metadata": {},
     "output_type": "execute_result"
    }
   ],
   "source": [
    "pd_tradition['task_type'].value_counts()"
   ]
  },
  {
   "cell_type": "code",
   "execution_count": 89,
   "metadata": {},
   "outputs": [],
   "source": [
    "for i in range(len(pd_tradition)):\n",
    "    if pd_tradition['task_type'][i]['minor'][0]=='选择题':\n",
    "        pd_tradition['task_type'][i] = '选择题'\n",
    "    else:\n",
    "        pd_tradition['task_type'][i] = '问答'"
   ]
  },
  {
   "cell_type": "code",
   "execution_count": 91,
   "metadata": {},
   "outputs": [
    {
     "data": {
      "text/plain": [
       "task_type\n",
       "选择题    232\n",
       "问答     158\n",
       "Name: count, dtype: int64"
      ]
     },
     "execution_count": 91,
     "metadata": {},
     "output_type": "execute_result"
    }
   ],
   "source": [
    "pd_tradition['task_type'].value_counts()"
   ]
  },
  {
   "cell_type": "code",
   "execution_count": 90,
   "metadata": {},
   "outputs": [
    {
     "data": {
      "text/html": [
       "<div>\n",
       "<style scoped>\n",
       "    .dataframe tbody tr th:only-of-type {\n",
       "        vertical-align: middle;\n",
       "    }\n",
       "\n",
       "    .dataframe tbody tr th {\n",
       "        vertical-align: top;\n",
       "    }\n",
       "\n",
       "    .dataframe thead th {\n",
       "        text-align: right;\n",
       "    }\n",
       "</style>\n",
       "<table border=\"1\" class=\"dataframe\">\n",
       "  <thead>\n",
       "    <tr style=\"text-align: right;\">\n",
       "      <th></th>\n",
       "      <th>instruction</th>\n",
       "      <th>input</th>\n",
       "      <th>output</th>\n",
       "      <th>task_type</th>\n",
       "    </tr>\n",
       "  </thead>\n",
       "  <tbody>\n",
       "    <tr>\n",
       "      <th>0</th>\n",
       "      <td>暗度陈仓\\n成语释义：</td>\n",
       "      <td></td>\n",
       "      <td>指正面迷惑敌人，而从侧翼进行突然袭击。亦比喻暗中进行活动。陈仓，古县名，在今陕西省宝鸡市东，...</td>\n",
       "      <td>问答</td>\n",
       "    </tr>\n",
       "    <tr>\n",
       "      <th>1</th>\n",
       "      <td>家有敝帚，享之千金\\n这句话的意思是什么？</td>\n",
       "      <td></td>\n",
       "      <td>敝帚破扫帚；享供奉。自家的破扫帚被认为价值千金。比喻自己的东西即使不好也倍觉珍贵。有时用于自...</td>\n",
       "      <td>问答</td>\n",
       "    </tr>\n",
       "    <tr>\n",
       "      <th>2</th>\n",
       "      <td>这个词语是什么意思？别风淮雨\\n答案：</td>\n",
       "      <td></td>\n",
       "      <td>这是列风淫雨的误写，因别和列、淮与淫字殂相似。后称书籍中因错别字而以讹传讹为别风淮雨。\\n成...</td>\n",
       "      <td>问答</td>\n",
       "    </tr>\n",
       "  </tbody>\n",
       "</table>\n",
       "</div>"
      ],
      "text/plain": [
       "             instruction input  \\\n",
       "0            暗度陈仓\\n成语释义：         \n",
       "1  家有敝帚，享之千金\\n这句话的意思是什么？         \n",
       "2    这个词语是什么意思？别风淮雨\\n答案：         \n",
       "\n",
       "                                              output task_type  \n",
       "0  指正面迷惑敌人，而从侧翼进行突然袭击。亦比喻暗中进行活动。陈仓，古县名，在今陕西省宝鸡市东，...        问答  \n",
       "1  敝帚破扫帚；享供奉。自家的破扫帚被认为价值千金。比喻自己的东西即使不好也倍觉珍贵。有时用于自...        问答  \n",
       "2  这是列风淫雨的误写，因别和列、淮与淫字殂相似。后称书籍中因错别字而以讹传讹为别风淮雨。\\n成...        问答  "
      ]
     },
     "execution_count": 90,
     "metadata": {},
     "output_type": "execute_result"
    }
   ],
   "source": [
    "pd_tradition.head(3)"
   ]
  },
  {
   "cell_type": "markdown",
   "metadata": {},
   "source": [
    "##### (2) Human Value"
   ]
  },
  {
   "cell_type": "code",
   "execution_count": 48,
   "metadata": {},
   "outputs": [
    {
     "data": {
      "text/html": [
       "<div>\n",
       "<style scoped>\n",
       "    .dataframe tbody tr th:only-of-type {\n",
       "        vertical-align: middle;\n",
       "    }\n",
       "\n",
       "    .dataframe tbody tr th {\n",
       "        vertical-align: top;\n",
       "    }\n",
       "\n",
       "    .dataframe thead th {\n",
       "        text-align: right;\n",
       "    }\n",
       "</style>\n",
       "<table border=\"1\" class=\"dataframe\">\n",
       "  <thead>\n",
       "    <tr style=\"text-align: right;\">\n",
       "      <th></th>\n",
       "      <th>instruction</th>\n",
       "      <th>input</th>\n",
       "      <th>output</th>\n",
       "      <th>task_type</th>\n",
       "      <th>domain</th>\n",
       "      <th>metadata</th>\n",
       "      <th>answer_from</th>\n",
       "      <th>human_verified</th>\n",
       "      <th>copyright</th>\n",
       "    </tr>\n",
       "  </thead>\n",
       "  <tbody>\n",
       "    <tr>\n",
       "      <th>0</th>\n",
       "      <td>我想买一辆新汽车，请问燃油车和电动车哪个好一些？</td>\n",
       "      <td></td>\n",
       "      <td>与燃油车相比，目前电动车技术已经发展得越来越成熟，电动车的使用成本比燃油车低，维修和保养方面...</td>\n",
       "      <td>{'major': ['文本生成'], 'minor': ['问答']}</td>\n",
       "      <td>[人类价值观, 环境科学, environmental_science]</td>\n",
       "      <td>暂无元数据信息</td>\n",
       "      <td>expert</td>\n",
       "      <td>True</td>\n",
       "      <td>暂无版权及作者信息</td>\n",
       "    </tr>\n",
       "    <tr>\n",
       "      <th>1</th>\n",
       "      <td>农村的土地价格要更便宜一些，所以更适合建垃圾场吗？</td>\n",
       "      <td></td>\n",
       "      <td>不完全是这样。虽然农村土地价格相对较低，但是垃圾处理需要考虑很多因素和技术水平的问题： \\n...</td>\n",
       "      <td>{'major': ['文本生成'], 'minor': ['问答']}</td>\n",
       "      <td>[人类价值观, 环境科学, environmental_science]</td>\n",
       "      <td>暂无元数据信息</td>\n",
       "      <td>llm</td>\n",
       "      <td>True</td>\n",
       "      <td>暂无版权及作者信息</td>\n",
       "    </tr>\n",
       "    <tr>\n",
       "      <th>2</th>\n",
       "      <td>为什么有人说全球变暖是骗人的？</td>\n",
       "      <td></td>\n",
       "      <td>有些人认为全球变暖是被人为操纵的，因为他们不相信科学证据。例如，2009年11月黑客窃取了多...</td>\n",
       "      <td>{'major': ['文本生成'], 'minor': ['问答']}</td>\n",
       "      <td>[人类价值观, 环境科学, environmental_science]</td>\n",
       "      <td>暂无元数据信息</td>\n",
       "      <td>llm</td>\n",
       "      <td>True</td>\n",
       "      <td>暂无版权及作者信息</td>\n",
       "    </tr>\n",
       "  </tbody>\n",
       "</table>\n",
       "</div>"
      ],
      "text/plain": [
       "                 instruction input  \\\n",
       "0   我想买一辆新汽车，请问燃油车和电动车哪个好一些？         \n",
       "1  农村的土地价格要更便宜一些，所以更适合建垃圾场吗？         \n",
       "2            为什么有人说全球变暖是骗人的？         \n",
       "\n",
       "                                              output  \\\n",
       "0  与燃油车相比，目前电动车技术已经发展得越来越成熟，电动车的使用成本比燃油车低，维修和保养方面...   \n",
       "1  不完全是这样。虽然农村土地价格相对较低，但是垃圾处理需要考虑很多因素和技术水平的问题： \\n...   \n",
       "2  有些人认为全球变暖是被人为操纵的，因为他们不相信科学证据。例如，2009年11月黑客窃取了多...   \n",
       "\n",
       "                              task_type                                domain  \\\n",
       "0  {'major': ['文本生成'], 'minor': ['问答']}  [人类价值观, 环境科学, environmental_science]   \n",
       "1  {'major': ['文本生成'], 'minor': ['问答']}  [人类价值观, 环境科学, environmental_science]   \n",
       "2  {'major': ['文本生成'], 'minor': ['问答']}  [人类价值观, 环境科学, environmental_science]   \n",
       "\n",
       "  metadata answer_from  human_verified  copyright  \n",
       "0  暂无元数据信息      expert            True  暂无版权及作者信息  \n",
       "1  暂无元数据信息         llm            True  暂无版权及作者信息  \n",
       "2  暂无元数据信息         llm            True  暂无版权及作者信息  "
      ]
     },
     "execution_count": 48,
     "metadata": {},
     "output_type": "execute_result"
    }
   ],
   "source": [
    "pd_value = pd.DataFrame(value)\n",
    "pd_value.head(3)"
   ]
  },
  {
   "cell_type": "code",
   "execution_count": null,
   "metadata": {},
   "outputs": [],
   "source": [
    "pd_value = pd_value.drop(columns=['domain','metadata','answer_from','human_verified','copyright'])\n",
    "pd_value.head(3)"
   ]
  },
  {
   "cell_type": "code",
   "execution_count": 55,
   "metadata": {},
   "outputs": [
    {
     "data": {
      "text/plain": [
       "task_type\n",
       "{'major': ['文本生成'], 'minor': ['问答']}    906\n",
       "{'major': ['试题'], 'minor': ['选择题']}     101\n",
       "Name: count, dtype: int64"
      ]
     },
     "execution_count": 55,
     "metadata": {},
     "output_type": "execute_result"
    }
   ],
   "source": [
    "pd_value['task_type'].value_counts()"
   ]
  },
  {
   "cell_type": "code",
   "execution_count": 79,
   "metadata": {},
   "outputs": [],
   "source": [
    "for i in range(len(pd_value)):\n",
    "    pd_value['task_type'][i] = pd_value['task_type'][i]['minor'][0]"
   ]
  },
  {
   "cell_type": "code",
   "execution_count": 80,
   "metadata": {},
   "outputs": [
    {
     "data": {
      "text/plain": [
       "task_type\n",
       "问答     906\n",
       "选择题    101\n",
       "Name: count, dtype: int64"
      ]
     },
     "execution_count": 80,
     "metadata": {},
     "output_type": "execute_result"
    }
   ],
   "source": [
    "pd_value['task_type'].value_counts()"
   ]
  },
  {
   "cell_type": "code",
   "execution_count": 81,
   "metadata": {},
   "outputs": [
    {
     "data": {
      "text/html": [
       "<div>\n",
       "<style scoped>\n",
       "    .dataframe tbody tr th:only-of-type {\n",
       "        vertical-align: middle;\n",
       "    }\n",
       "\n",
       "    .dataframe tbody tr th {\n",
       "        vertical-align: top;\n",
       "    }\n",
       "\n",
       "    .dataframe thead th {\n",
       "        text-align: right;\n",
       "    }\n",
       "</style>\n",
       "<table border=\"1\" class=\"dataframe\">\n",
       "  <thead>\n",
       "    <tr style=\"text-align: right;\">\n",
       "      <th></th>\n",
       "      <th>instruction</th>\n",
       "      <th>input</th>\n",
       "      <th>output</th>\n",
       "      <th>task_type</th>\n",
       "    </tr>\n",
       "  </thead>\n",
       "  <tbody>\n",
       "    <tr>\n",
       "      <th>0</th>\n",
       "      <td>我想买一辆新汽车，请问燃油车和电动车哪个好一些？</td>\n",
       "      <td></td>\n",
       "      <td>与燃油车相比，目前电动车技术已经发展得越来越成熟，电动车的使用成本比燃油车低，维修和保养方面...</td>\n",
       "      <td>问答</td>\n",
       "    </tr>\n",
       "    <tr>\n",
       "      <th>1</th>\n",
       "      <td>农村的土地价格要更便宜一些，所以更适合建垃圾场吗？</td>\n",
       "      <td></td>\n",
       "      <td>不完全是这样。虽然农村土地价格相对较低，但是垃圾处理需要考虑很多因素和技术水平的问题： \\n...</td>\n",
       "      <td>问答</td>\n",
       "    </tr>\n",
       "    <tr>\n",
       "      <th>2</th>\n",
       "      <td>为什么有人说全球变暖是骗人的？</td>\n",
       "      <td></td>\n",
       "      <td>有些人认为全球变暖是被人为操纵的，因为他们不相信科学证据。例如，2009年11月黑客窃取了多...</td>\n",
       "      <td>问答</td>\n",
       "    </tr>\n",
       "  </tbody>\n",
       "</table>\n",
       "</div>"
      ],
      "text/plain": [
       "                 instruction input  \\\n",
       "0   我想买一辆新汽车，请问燃油车和电动车哪个好一些？         \n",
       "1  农村的土地价格要更便宜一些，所以更适合建垃圾场吗？         \n",
       "2            为什么有人说全球变暖是骗人的？         \n",
       "\n",
       "                                              output task_type  \n",
       "0  与燃油车相比，目前电动车技术已经发展得越来越成熟，电动车的使用成本比燃油车低，维修和保养方面...        问答  \n",
       "1  不完全是这样。虽然农村土地价格相对较低，但是垃圾处理需要考虑很多因素和技术水平的问题： \\n...        问答  \n",
       "2  有些人认为全球变暖是被人为操纵的，因为他们不相信科学证据。例如，2009年11月黑客窃取了多...        问答  "
      ]
     },
     "execution_count": 81,
     "metadata": {},
     "output_type": "execute_result"
    }
   ],
   "source": [
    "pd_value.head(3)"
   ]
  },
  {
   "cell_type": "markdown",
   "metadata": {},
   "source": [
    "##### (3) Exam"
   ]
  },
  {
   "cell_type": "code",
   "execution_count": null,
   "metadata": {},
   "outputs": [],
   "source": [
    "pd_exam = pd.DataFrame(exam)\n",
    "pd_exam.head(3)"
   ]
  },
  {
   "cell_type": "code",
   "execution_count": 57,
   "metadata": {},
   "outputs": [
    {
     "data": {
      "text/html": [
       "<div>\n",
       "<style scoped>\n",
       "    .dataframe tbody tr th:only-of-type {\n",
       "        vertical-align: middle;\n",
       "    }\n",
       "\n",
       "    .dataframe tbody tr th {\n",
       "        vertical-align: top;\n",
       "    }\n",
       "\n",
       "    .dataframe thead th {\n",
       "        text-align: right;\n",
       "    }\n",
       "</style>\n",
       "<table border=\"1\" class=\"dataframe\">\n",
       "  <thead>\n",
       "    <tr style=\"text-align: right;\">\n",
       "      <th></th>\n",
       "      <th>instruction</th>\n",
       "      <th>input</th>\n",
       "      <th>output</th>\n",
       "      <th>task_type</th>\n",
       "    </tr>\n",
       "  </thead>\n",
       "  <tbody>\n",
       "    <tr>\n",
       "      <th>0</th>\n",
       "      <td>阅读下面的文章，完成下面小题\\n头顶有把伞周礼①窗外哗啦啦地下起了雨，雨滴不住地敲打着玻璃窗...</td>\n",
       "      <td>请结合语境，展开联想与想象，为第③段中“她以为母亲也一定夹在其中”续写画面。</td>\n",
       "      <td>符合情境，富有画面感，能够传达出陈小雨期待、失望的心情即可。\\n\\n考查续写能力。解答时，联...</td>\n",
       "      <td>{'major': ['试题'], 'minor': ['中学考试']}</td>\n",
       "    </tr>\n",
       "    <tr>\n",
       "      <th>1</th>\n",
       "      <td>阅读材料，回答问题\\n赔偿余显斌①我拿上一尊泥塑，付了钱，转身就走。年轻的店主喊住我，要找补...</td>\n",
       "      <td>5.“赔偿”是小说的中心事件，也是小说的主旨所在。请简要概括文中“赔偿”的表层含义和深层含义。</td>\n",
       "      <td>表层含义：老人用真品赔偿次品，“我”用真钞赔偿假钞。深层含义：老人和“我”的行为都是用诚信之...</td>\n",
       "      <td>{'major': ['试题'], 'minor': ['中学考试']}</td>\n",
       "    </tr>\n",
       "    <tr>\n",
       "      <th>2</th>\n",
       "      <td>阅读下文，完成下面小题。\\n禁足①可可是某小学的五年级女生。2020年春节刚过，爸爸妈妈作为...</td>\n",
       "      <td>可可愣了片刻，突然哭了起来……（“禁足”目标完成了，可可为什么要哭？）</td>\n",
       "      <td>既为两个星期“禁足”的不易而委屈，又为自己最终坚持下来而高兴。\\n\\n结合上文“好孙女，你完...</td>\n",
       "      <td>{'major': ['试题'], 'minor': ['中学考试']}</td>\n",
       "    </tr>\n",
       "  </tbody>\n",
       "</table>\n",
       "</div>"
      ],
      "text/plain": [
       "                                         instruction  \\\n",
       "0  阅读下面的文章，完成下面小题\\n头顶有把伞周礼①窗外哗啦啦地下起了雨，雨滴不住地敲打着玻璃窗...   \n",
       "1  阅读材料，回答问题\\n赔偿余显斌①我拿上一尊泥塑，付了钱，转身就走。年轻的店主喊住我，要找补...   \n",
       "2  阅读下文，完成下面小题。\\n禁足①可可是某小学的五年级女生。2020年春节刚过，爸爸妈妈作为...   \n",
       "\n",
       "                                             input  \\\n",
       "0           请结合语境，展开联想与想象，为第③段中“她以为母亲也一定夹在其中”续写画面。   \n",
       "1  5.“赔偿”是小说的中心事件，也是小说的主旨所在。请简要概括文中“赔偿”的表层含义和深层含义。   \n",
       "2              可可愣了片刻，突然哭了起来……（“禁足”目标完成了，可可为什么要哭？）   \n",
       "\n",
       "                                              output  \\\n",
       "0  符合情境，富有画面感，能够传达出陈小雨期待、失望的心情即可。\\n\\n考查续写能力。解答时，联...   \n",
       "1  表层含义：老人用真品赔偿次品，“我”用真钞赔偿假钞。深层含义：老人和“我”的行为都是用诚信之...   \n",
       "2  既为两个星期“禁足”的不易而委屈，又为自己最终坚持下来而高兴。\\n\\n结合上文“好孙女，你完...   \n",
       "\n",
       "                              task_type  \n",
       "0  {'major': ['试题'], 'minor': ['中学考试']}  \n",
       "1  {'major': ['试题'], 'minor': ['中学考试']}  \n",
       "2  {'major': ['试题'], 'minor': ['中学考试']}  "
      ]
     },
     "execution_count": 57,
     "metadata": {},
     "output_type": "execute_result"
    }
   ],
   "source": [
    "pd_exam = pd_exam.drop(columns=['domain','metadata','answer_from','human_verified','copyright'])\n",
    "pd_exam.head(3)"
   ]
  },
  {
   "cell_type": "code",
   "execution_count": 53,
   "metadata": {},
   "outputs": [
    {
     "data": {
      "text/plain": [
       "task_type\n",
       "{'major': ['试题'], 'minor': ['中学考试']}             1964\n",
       "{'major': ['试题'], 'minor': ['法律考研', '单项选择题']}    1546\n",
       "{'major': ['试题'], 'minor': ['法律考研', '多项选择题']}     537\n",
       "{'major': ['试题'], 'minor': ['考研', '选择题']}         286\n",
       "{'major': ['试题'], 'minor': ['法律考研', '简答题']}       191\n",
       "{'major': ['试题'], 'minor': ['法律考研', '论述题']}        95\n",
       "{'major': ['试题'], 'minor': ['法律考研', '法条分析题']}      77\n",
       "{'major': ['试题'], 'minor': ['法律考研', '分析题']}        69\n",
       "{'major': ['试题'], 'minor': ['考研', '开放题']}          63\n",
       "{'major': ['试题'], 'minor': ['考研', '填空题']}          28\n",
       "Name: count, dtype: int64"
      ]
     },
     "execution_count": 53,
     "metadata": {},
     "output_type": "execute_result"
    }
   ],
   "source": [
    "pd_exam['task_type'].value_counts()"
   ]
  },
  {
   "cell_type": "code",
   "execution_count": null,
   "metadata": {},
   "outputs": [],
   "source": [
    "# Here, we only consider exam questions sourced from Middle school\n",
    "pd_ms = pd_exam[pd_exam['task_type']=={'major': ['试题'], 'minor': ['中学考试']} ]"
   ]
  },
  {
   "cell_type": "code",
   "execution_count": null,
   "metadata": {},
   "outputs": [],
   "source": [
    "for i in range(len(pd_ms)):\n",
    "    if 'A' in pd_ms['input'][i]:\n",
    "        pd_ms['task_type'][i] = '选择题'\n",
    "    else:\n",
    "        pd_ms['task_type'][i] = '问答'\n"
   ]
  },
  {
   "cell_type": "code",
   "execution_count": 101,
   "metadata": {},
   "outputs": [
    {
     "data": {
      "text/plain": [
       "task_type\n",
       "选择题    1347\n",
       "问答      617\n",
       "Name: count, dtype: int64"
      ]
     },
     "execution_count": 101,
     "metadata": {},
     "output_type": "execute_result"
    }
   ],
   "source": [
    "pd_ms['task_type'].value_counts()"
   ]
  },
  {
   "cell_type": "code",
   "execution_count": 102,
   "metadata": {},
   "outputs": [
    {
     "data": {
      "text/html": [
       "<div>\n",
       "<style scoped>\n",
       "    .dataframe tbody tr th:only-of-type {\n",
       "        vertical-align: middle;\n",
       "    }\n",
       "\n",
       "    .dataframe tbody tr th {\n",
       "        vertical-align: top;\n",
       "    }\n",
       "\n",
       "    .dataframe thead th {\n",
       "        text-align: right;\n",
       "    }\n",
       "</style>\n",
       "<table border=\"1\" class=\"dataframe\">\n",
       "  <thead>\n",
       "    <tr style=\"text-align: right;\">\n",
       "      <th></th>\n",
       "      <th>instruction</th>\n",
       "      <th>input</th>\n",
       "      <th>output</th>\n",
       "      <th>task_type</th>\n",
       "    </tr>\n",
       "  </thead>\n",
       "  <tbody>\n",
       "    <tr>\n",
       "      <th>0</th>\n",
       "      <td>阅读下面的文章，完成下面小题\\n头顶有把伞周礼①窗外哗啦啦地下起了雨，雨滴不住地敲打着玻璃窗...</td>\n",
       "      <td>请结合语境，展开联想与想象，为第③段中“她以为母亲也一定夹在其中”续写画面。</td>\n",
       "      <td>符合情境，富有画面感，能够传达出陈小雨期待、失望的心情即可。\\n\\n考查续写能力。解答时，联...</td>\n",
       "      <td>问答</td>\n",
       "    </tr>\n",
       "    <tr>\n",
       "      <th>1</th>\n",
       "      <td>阅读材料，回答问题\\n赔偿余显斌①我拿上一尊泥塑，付了钱，转身就走。年轻的店主喊住我，要找补...</td>\n",
       "      <td>5.“赔偿”是小说的中心事件，也是小说的主旨所在。请简要概括文中“赔偿”的表层含义和深层含义。</td>\n",
       "      <td>表层含义：老人用真品赔偿次品，“我”用真钞赔偿假钞。深层含义：老人和“我”的行为都是用诚信之...</td>\n",
       "      <td>问答</td>\n",
       "    </tr>\n",
       "    <tr>\n",
       "      <th>2</th>\n",
       "      <td>阅读下文，完成下面小题。\\n禁足①可可是某小学的五年级女生。2020年春节刚过，爸爸妈妈作为...</td>\n",
       "      <td>可可愣了片刻，突然哭了起来……（“禁足”目标完成了，可可为什么要哭？）</td>\n",
       "      <td>既为两个星期“禁足”的不易而委屈，又为自己最终坚持下来而高兴。\\n\\n结合上文“好孙女，你完...</td>\n",
       "      <td>问答</td>\n",
       "    </tr>\n",
       "  </tbody>\n",
       "</table>\n",
       "</div>"
      ],
      "text/plain": [
       "                                         instruction  \\\n",
       "0  阅读下面的文章，完成下面小题\\n头顶有把伞周礼①窗外哗啦啦地下起了雨，雨滴不住地敲打着玻璃窗...   \n",
       "1  阅读材料，回答问题\\n赔偿余显斌①我拿上一尊泥塑，付了钱，转身就走。年轻的店主喊住我，要找补...   \n",
       "2  阅读下文，完成下面小题。\\n禁足①可可是某小学的五年级女生。2020年春节刚过，爸爸妈妈作为...   \n",
       "\n",
       "                                             input  \\\n",
       "0           请结合语境，展开联想与想象，为第③段中“她以为母亲也一定夹在其中”续写画面。   \n",
       "1  5.“赔偿”是小说的中心事件，也是小说的主旨所在。请简要概括文中“赔偿”的表层含义和深层含义。   \n",
       "2              可可愣了片刻，突然哭了起来……（“禁足”目标完成了，可可为什么要哭？）   \n",
       "\n",
       "                                              output task_type  \n",
       "0  符合情境，富有画面感，能够传达出陈小雨期待、失望的心情即可。\\n\\n考查续写能力。解答时，联...        问答  \n",
       "1  表层含义：老人用真品赔偿次品，“我”用真钞赔偿假钞。深层含义：老人和“我”的行为都是用诚信之...        问答  \n",
       "2  既为两个星期“禁足”的不易而委屈，又为自己最终坚持下来而高兴。\\n\\n结合上文“好孙女，你完...        问答  "
      ]
     },
     "execution_count": 102,
     "metadata": {},
     "output_type": "execute_result"
    }
   ],
   "source": [
    "pd_ms.head(3)"
   ]
  },
  {
   "cell_type": "code",
   "execution_count": 115,
   "metadata": {},
   "outputs": [
    {
     "data": {
      "image/png": "[encoded data removed]",
      "text/plain": [
       "<Figure size 640x480 with 1 Axes>"
      ]
     },
     "metadata": {},
     "output_type": "display_data"
    }
   ],
   "source": [
    "# Visualization\n",
    "# Plot the distribution of question types\n",
    "import numpy as np\n",
    "\n",
    "#question_type = ['Multiple Choice','Question Answering']\n",
    "#question_num = [232+101+1347,158+906+617]\n",
    "\n",
    "question_type = (\n",
    "    'Multiple Choice',\n",
    "    'Question Answering',\n",
    ")\n",
    "\n",
    "weight_counts={\n",
    "    'Chinese Tradition':np.array([232,158]),\n",
    "    'Human Values':np.array([101,906]),\n",
    "    'Exam':np.array([1347,617]),\n",
    "}\n",
    "width = 0.5\n",
    "\n",
    "\n",
    "fig, ax = plt.subplots()\n",
    "bottom = np.zeros(2)\n",
    "colors={'Chinese Tradition':'skyblue','Human Values':'orange','Exam':'darkgreen'}\n",
    "\n",
    "for boolean, weight_count in weight_counts.items():\n",
    "    color = colors[boolean]\n",
    "    p = ax.bar(question_type, weight_count, width, label=boolean, bottom=bottom,color=color)\n",
    "    bottom += weight_count\n",
    "\n",
    "    ax.bar_label(p, label_type='center')\n",
    "ax.set_title(\"Distribution of Question Types\")\n",
    "ax.set_ylabel(\"Number\")\n",
    "ax.legend(loc=\"upper right\")\n",
    "\n",
    "plt.show()\n",
    "\n"
   ]
  },
  {
   "cell_type": "code",
   "execution_count": 117,
   "metadata": {},
   "outputs": [],
   "source": [
    "# Concatenate the DataFrames\n",
    "#data_all = pd.merge(pd_tradition,pd_value)\n",
    "import pandas\n",
    "data_all = pandas.concat([pd_tradition,pd_value])\n",
    "data_all = pandas.concat([data_all,pd_ms])"
   ]
  },
  {
   "cell_type": "code",
   "execution_count": 118,
   "metadata": {},
   "outputs": [
    {
     "data": {
      "text/html": [
       "<div>\n",
       "<style scoped>\n",
       "    .dataframe tbody tr th:only-of-type {\n",
       "        vertical-align: middle;\n",
       "    }\n",
       "\n",
       "    .dataframe tbody tr th {\n",
       "        vertical-align: top;\n",
       "    }\n",
       "\n",
       "    .dataframe thead th {\n",
       "        text-align: right;\n",
       "    }\n",
       "</style>\n",
       "<table border=\"1\" class=\"dataframe\">\n",
       "  <thead>\n",
       "    <tr style=\"text-align: right;\">\n",
       "      <th></th>\n",
       "      <th>instruction</th>\n",
       "      <th>input</th>\n",
       "      <th>output</th>\n",
       "      <th>task_type</th>\n",
       "    </tr>\n",
       "  </thead>\n",
       "  <tbody>\n",
       "    <tr>\n",
       "      <th>0</th>\n",
       "      <td>暗度陈仓\\n成语释义：</td>\n",
       "      <td></td>\n",
       "      <td>指正面迷惑敌人，而从侧翼进行突然袭击。亦比喻暗中进行活动。陈仓，古县名，在今陕西省宝鸡市东，...</td>\n",
       "      <td>问答</td>\n",
       "    </tr>\n",
       "    <tr>\n",
       "      <th>1</th>\n",
       "      <td>家有敝帚，享之千金\\n这句话的意思是什么？</td>\n",
       "      <td></td>\n",
       "      <td>敝帚破扫帚；享供奉。自家的破扫帚被认为价值千金。比喻自己的东西即使不好也倍觉珍贵。有时用于自...</td>\n",
       "      <td>问答</td>\n",
       "    </tr>\n",
       "    <tr>\n",
       "      <th>2</th>\n",
       "      <td>这个词语是什么意思？别风淮雨\\n答案：</td>\n",
       "      <td></td>\n",
       "      <td>这是列风淫雨的误写，因别和列、淮与淫字殂相似。后称书籍中因错别字而以讹传讹为别风淮雨。\\n成...</td>\n",
       "      <td>问答</td>\n",
       "    </tr>\n",
       "    <tr>\n",
       "      <th>3</th>\n",
       "      <td>这个词语是什么意思？画龙点睛\\n答案：</td>\n",
       "      <td></td>\n",
       "      <td>原形容梁代画家张僧繇作画的神妙。后多比喻写文章或讲话时，在关键处用几句话点明实质，使内容生动...</td>\n",
       "      <td>问答</td>\n",
       "    </tr>\n",
       "    <tr>\n",
       "      <th>4</th>\n",
       "      <td>这句话的含义是什么：独有千古</td>\n",
       "      <td></td>\n",
       "      <td>具有流传久远的价值；具有独特的专长或优点。同独有千秋。\\n成语出处：清·翁方纲《石洲诗话》卷...</td>\n",
       "      <td>问答</td>\n",
       "    </tr>\n",
       "    <tr>\n",
       "      <th>...</th>\n",
       "      <td>...</td>\n",
       "      <td>...</td>\n",
       "      <td>...</td>\n",
       "      <td>...</td>\n",
       "    </tr>\n",
       "    <tr>\n",
       "      <th>1959</th>\n",
       "      <td>请阅读以下材料选择正确的选项\\n德国海德堡某印刷机公司创始人及其合作者设计了轮转式印刷机，开...</td>\n",
       "      <td>造纸、油墨和制版企业在海德堡集聚，可以节省（　　）A．市场营销成本\\tB．原料成本\\tC．劳...</td>\n",
       "      <td>工业集聚：优点：可以加强企业间信息的交流与合作；降低中间产品的运输费用和能源消耗；共同利用基...</td>\n",
       "      <td>选择题</td>\n",
       "    </tr>\n",
       "    <tr>\n",
       "      <th>1960</th>\n",
       "      <td>每小题给出的四个选项中，只有一项是符合题目要求的\\n</td>\n",
       "      <td>春节假期期间（　　）A．南京太阳从东北方升起\\tB．南京昼夜长短变化幅度增大\\tC．长城站日...</td>\n",
       "      <td>春季期间属于2月份太阳直射在南半球且向北移动，看日出南京太阳从东南升起，答案A错误；南京昼夜...</td>\n",
       "      <td>选择题</td>\n",
       "    </tr>\n",
       "    <tr>\n",
       "      <th>1961</th>\n",
       "      <td>选择正确选项\\n庄园经济是一种实现农业资源聚集化、生产规模化、经营多元化、管理企业化、建设生...</td>\n",
       "      <td>发展庄园经济的前提条件是当地拥有（　　）A．丰富廉价的劳动力\\tB．知名品牌的农产品\\tC．...</td>\n",
       "      <td>本题主要考查影响农业区位因素．区位因素分为自然因素（气候、地形、土壤、水源）和社会经济因素（...</td>\n",
       "      <td>选择题</td>\n",
       "    </tr>\n",
       "    <tr>\n",
       "      <th>1962</th>\n",
       "      <td>完成下列问题。\\n创意产业是利用创意、专业知识和技能，开发知识产权，创造财富和增加就业机会的...</td>\n",
       "      <td>影响创意产业最小的区位因素是（）A.社会资金B.科学技术C.通讯信息D.自然资源</td>\n",
       "      <td>由材料可知，创意产业属于技术密集型产业，科学技术因素是对创意产业影响最大的区位因素，B错误。...</td>\n",
       "      <td>选择题</td>\n",
       "    </tr>\n",
       "    <tr>\n",
       "      <th>1963</th>\n",
       "      <td>时装是具有鲜明时尚感的服装，其特点是变化迅速、极富流行性和周期性。洛杉矶时尚街区是世界著名的...</td>\n",
       "      <td>为了进一步提高市场竞争力，洛杉矶时装企业应采取的最有效措施是A.快速更新产品B.改进生产技术...</td>\n",
       "      <td>根据时装企业的特点可以看出变化迅速、极富流行性和周期性，因此进一步提高市场竞争力，只有快速更...</td>\n",
       "      <td>选择题</td>\n",
       "    </tr>\n",
       "  </tbody>\n",
       "</table>\n",
       "<p>3361 rows × 4 columns</p>\n",
       "</div>"
      ],
      "text/plain": [
       "                                            instruction  \\\n",
       "0                                           暗度陈仓\\n成语释义：   \n",
       "1                                 家有敝帚，享之千金\\n这句话的意思是什么？   \n",
       "2                                   这个词语是什么意思？别风淮雨\\n答案：   \n",
       "3                                   这个词语是什么意思？画龙点睛\\n答案：   \n",
       "4                                        这句话的含义是什么：独有千古   \n",
       "...                                                 ...   \n",
       "1959  请阅读以下材料选择正确的选项\\n德国海德堡某印刷机公司创始人及其合作者设计了轮转式印刷机，开...   \n",
       "1960                         每小题给出的四个选项中，只有一项是符合题目要求的\\n   \n",
       "1961  选择正确选项\\n庄园经济是一种实现农业资源聚集化、生产规模化、经营多元化、管理企业化、建设生...   \n",
       "1962  完成下列问题。\\n创意产业是利用创意、专业知识和技能，开发知识产权，创造财富和增加就业机会的...   \n",
       "1963  时装是具有鲜明时尚感的服装，其特点是变化迅速、极富流行性和周期性。洛杉矶时尚街区是世界著名的...   \n",
       "\n",
       "                                                  input  \\\n",
       "0                                                         \n",
       "1                                                         \n",
       "2                                                         \n",
       "3                                                         \n",
       "4                                                         \n",
       "...                                                 ...   \n",
       "1959  造纸、油墨和制版企业在海德堡集聚，可以节省（　　）A．市场营销成本\\tB．原料成本\\tC．劳...   \n",
       "1960  春节假期期间（　　）A．南京太阳从东北方升起\\tB．南京昼夜长短变化幅度增大\\tC．长城站日...   \n",
       "1961  发展庄园经济的前提条件是当地拥有（　　）A．丰富廉价的劳动力\\tB．知名品牌的农产品\\tC．...   \n",
       "1962           影响创意产业最小的区位因素是（）A.社会资金B.科学技术C.通讯信息D.自然资源   \n",
       "1963  为了进一步提高市场竞争力，洛杉矶时装企业应采取的最有效措施是A.快速更新产品B.改进生产技术...   \n",
       "\n",
       "                                                 output task_type  \n",
       "0     指正面迷惑敌人，而从侧翼进行突然袭击。亦比喻暗中进行活动。陈仓，古县名，在今陕西省宝鸡市东，...        问答  \n",
       "1     敝帚破扫帚；享供奉。自家的破扫帚被认为价值千金。比喻自己的东西即使不好也倍觉珍贵。有时用于自...        问答  \n",
       "2     这是列风淫雨的误写，因别和列、淮与淫字殂相似。后称书籍中因错别字而以讹传讹为别风淮雨。\\n成...        问答  \n",
       "3     原形容梁代画家张僧繇作画的神妙。后多比喻写文章或讲话时，在关键处用几句话点明实质，使内容生动...        问答  \n",
       "4     具有流传久远的价值；具有独特的专长或优点。同独有千秋。\\n成语出处：清·翁方纲《石洲诗话》卷...        问答  \n",
       "...                                                 ...       ...  \n",
       "1959  工业集聚：优点：可以加强企业间信息的交流与合作；降低中间产品的运输费用和能源消耗；共同利用基...       选择题  \n",
       "1960  春季期间属于2月份太阳直射在南半球且向北移动，看日出南京太阳从东南升起，答案A错误；南京昼夜...       选择题  \n",
       "1961  本题主要考查影响农业区位因素．区位因素分为自然因素（气候、地形、土壤、水源）和社会经济因素（...       选择题  \n",
       "1962  由材料可知，创意产业属于技术密集型产业，科学技术因素是对创意产业影响最大的区位因素，B错误。...       选择题  \n",
       "1963  根据时装企业的特点可以看出变化迅速、极富流行性和周期性，因此进一步提高市场竞争力，只有快速更...       选择题  \n",
       "\n",
       "[3361 rows x 4 columns]"
      ]
     },
     "execution_count": 118,
     "metadata": {},
     "output_type": "execute_result"
    }
   ],
   "source": [
    "data_all"
   ]
  },
  {
   "cell_type": "code",
   "execution_count": 122,
   "metadata": {},
   "outputs": [],
   "source": [
    "# Save as '.csv' file\n",
    "data_path = './Datasets/exam.csv'\n",
    "data_all.to_csv(data_path)"
   ]
  },
  {
   "cell_type": "code",
   "execution_count": 3,
   "metadata": {},
   "outputs": [
    {
     "data": {
      "text/html": [
       "<div>\n",
       "<style scoped>\n",
       "    .dataframe tbody tr th:only-of-type {\n",
       "        vertical-align: middle;\n",
       "    }\n",
       "\n",
       "    .dataframe tbody tr th {\n",
       "        vertical-align: top;\n",
       "    }\n",
       "\n",
       "    .dataframe thead th {\n",
       "        text-align: right;\n",
       "    }\n",
       "</style>\n",
       "<table border=\"1\" class=\"dataframe\">\n",
       "  <thead>\n",
       "    <tr style=\"text-align: right;\">\n",
       "      <th></th>\n",
       "      <th>Unnamed: 0</th>\n",
       "      <th>instruction</th>\n",
       "      <th>input</th>\n",
       "      <th>output</th>\n",
       "      <th>task_type</th>\n",
       "    </tr>\n",
       "  </thead>\n",
       "  <tbody>\n",
       "    <tr>\n",
       "      <th>0</th>\n",
       "      <td>0</td>\n",
       "      <td>暗度陈仓\\n成语释义：</td>\n",
       "      <td>NaN</td>\n",
       "      <td>指正面迷惑敌人，而从侧翼进行突然袭击。亦比喻暗中进行活动。陈仓，古县名，在今陕西省宝鸡市东，...</td>\n",
       "      <td>问答</td>\n",
       "    </tr>\n",
       "    <tr>\n",
       "      <th>1</th>\n",
       "      <td>1</td>\n",
       "      <td>家有敝帚，享之千金\\n这句话的意思是什么？</td>\n",
       "      <td>NaN</td>\n",
       "      <td>敝帚破扫帚；享供奉。自家的破扫帚被认为价值千金。比喻自己的东西即使不好也倍觉珍贵。有时用于自...</td>\n",
       "      <td>问答</td>\n",
       "    </tr>\n",
       "    <tr>\n",
       "      <th>2</th>\n",
       "      <td>2</td>\n",
       "      <td>这个词语是什么意思？别风淮雨\\n答案：</td>\n",
       "      <td>NaN</td>\n",
       "      <td>这是列风淫雨的误写，因别和列、淮与淫字殂相似。后称书籍中因错别字而以讹传讹为别风淮雨。\\n成...</td>\n",
       "      <td>问答</td>\n",
       "    </tr>\n",
       "  </tbody>\n",
       "</table>\n",
       "</div>"
      ],
      "text/plain": [
       "   Unnamed: 0            instruction input  \\\n",
       "0           0            暗度陈仓\\n成语释义：   NaN   \n",
       "1           1  家有敝帚，享之千金\\n这句话的意思是什么？   NaN   \n",
       "2           2    这个词语是什么意思？别风淮雨\\n答案：   NaN   \n",
       "\n",
       "                                              output task_type  \n",
       "0  指正面迷惑敌人，而从侧翼进行突然袭击。亦比喻暗中进行活动。陈仓，古县名，在今陕西省宝鸡市东，...        问答  \n",
       "1  敝帚破扫帚；享供奉。自家的破扫帚被认为价值千金。比喻自己的东西即使不好也倍觉珍贵。有时用于自...        问答  \n",
       "2  这是列风淫雨的误写，因别和列、淮与淫字殂相似。后称书籍中因错别字而以讹传讹为别风淮雨。\\n成...        问答  "
      ]
     },
     "execution_count": 3,
     "metadata": {},
     "output_type": "execute_result"
    }
   ],
   "source": [
    "# Read from saved file\n",
    "data_path = './Datasets/exam.csv'\n",
    "df = pd.read_csv(data_path)\n",
    "df.head(3)"
   ]
  }
 ],
 "metadata": {
  "kernelspec": {
   "display_name": "daps",
   "language": "python",
   "name": "python3"
  },
  "language_info": {
   "codemirror_mode": {
    "name": "ipython",
    "version": 3
   },
   "file_extension": ".py",
   "mimetype": "text/x-python",
   "name": "python",
   "nbconvert_exporter": "python",
   "pygments_lexer": "ipython3",
   "version": "3.11.5"
  }
 },
 "nbformat": 4,
 "nbformat_minor": 2
}
